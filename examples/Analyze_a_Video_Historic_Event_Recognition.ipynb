{
  "cells": [
    {
      "cell_type": "markdown",
      "metadata": {
        "id": "UvTPRErEO2cl"
      },
      "source": [
        "##### Copyright 2025 Google LLC."
      ]
    },
    {
      "cell_type": "code",
      "execution_count": null,
      "metadata": {
        "cellView": "form",
        "id": "LCJL7_hQO3jW"
      },
      "outputs": [],
      "source": [
        "# @title Licensed under the Apache License, Version 2.0 (the \"License\");\n",
        "# you may not use this file except in compliance with the License.\n",
        "# You may obtain a copy of the License at\n",
        "#\n",
        "# https://www.apache.org/licenses/LICENSE-2.0\n",
        "#\n",
        "# Unless required by applicable law or agreed to in writing, software\n",
        "# distributed under the License is distributed on an \"AS IS\" BASIS,\n",
        "# WITHOUT WARRANTIES OR CONDITIONS OF ANY KIND, either express or implied.\n",
        "# See the License for the specific language governing permissions and\n",
        "# limitations under the License."
      ]
    },
    {
      "cell_type": "markdown",
      "metadata": {
        "id": "2Xjw-LFKoD1-"
      },
      "source": [
        "# Gemini API: Analyze a Video - Historic Event Recognition\n",
        "\n",
        "This notebook shows how you can use Gemini models' multimodal capabilities to recognize which historic event is happening in the video."
      ]
    },
    {
      "cell_type": "markdown",
      "metadata": {
        "id": "dJY5C59gPf-m"
      },
      "source": [
        "<a target=\"_blank\" href=\"https://colab.research.google.com/github/google-gemini/cookbook/blob/main/examples/Analyze_a_Video_Historic_Event_Recognition.ipynb\"><img src=\"https://colab.research.google.com/assets/colab-badge.svg\" height=30/></a>"
      ]
    },
    {
      "cell_type": "code",
      "execution_count": 9,
      "metadata": {
        "id": "NwP4PBGWoQiJ",
        "colab": {
          "base_uri": "https://localhost:8080/"
        },
        "outputId": "a3a7f372-4843-4947-dae6-bfe08760f2fb"
      },
      "outputs": [
        {
          "output_type": "stream",
          "name": "stdout",
          "text": [
            "\u001b[2K     \u001b[90m━━━━━━━━━━━━━━━━━━━━━━━━━━━━━━━━━━━━━━━━\u001b[0m \u001b[32m43.1/43.1 kB\u001b[0m \u001b[31m1.6 MB/s\u001b[0m eta \u001b[36m0:00:00\u001b[0m\n",
            "\u001b[2K   \u001b[90m━━━━━━━━━━━━━━━━━━━━━━━━━━━━━━━━━━━━━━━━\u001b[0m \u001b[32m218.5/218.5 kB\u001b[0m \u001b[31m5.6 MB/s\u001b[0m eta \u001b[36m0:00:00\u001b[0m\n",
            "\u001b[?25h"
          ]
        }
      ],
      "source": [
        "%pip install -U -q \"google-genai>=1.0.0\""
      ]
    },
    {
      "cell_type": "markdown",
      "metadata": {
        "id": "KsMCUn_nRRtV"
      },
      "source": [
        "## Configure your API key\n",
        "\n",
        "To run the following cell, your API key must be stored in a Colab Secret named `GOOGLE_API_KEY`. If you don't already have an API key, or you're not sure how to create a Colab Secret, see [Authentication](https://github.com/google-gemini/cookbook/blob/main/quickstarts/Authentication.ipynb) for an example."
      ]
    },
    {
      "cell_type": "code",
      "execution_count": 10,
      "metadata": {
        "id": "yGjQlQ9hoSOk"
      },
      "outputs": [],
      "source": [
        "from google import genai\n",
        "from google.colab import userdata\n",
        "\n",
        "API_KEY = userdata.get('GOOGLE_API_KEY')\n",
        "client = genai.Client(api_key=API_KEY)"
      ]
    },
    {
      "cell_type": "markdown",
      "metadata": {
        "id": "9y6o91Xb7RZb"
      },
      "source": [
        "## Example\n",
        "\n",
        "This example uses [video of President Ronald Reagan's Speech at the Berlin Wall](https://s3.amazonaws.com/NARAprodstorage/opastorage/live/16/147/6014716/content/presidential-libraries/reagan/5730544/6-12-1987-439.mp4) taken on June 12 1987."
      ]
    },
    {
      "cell_type": "code",
      "execution_count": 11,
      "metadata": {
        "id": "M794IEOG7QzI",
        "colab": {
          "base_uri": "https://localhost:8080/"
        },
        "outputId": "19e5aa94-3507-4413-8f68-f60f814bb30d"
      },
      "outputs": [
        {
          "output_type": "stream",
          "name": "stdout",
          "text": [
            "--2025-07-25 00:09:17--  https://s3.amazonaws.com/NARAprodstorage/opastorage/live/16/147/6014716/content/presidential-libraries/reagan/5730544/6-12-1987-439.mp4\n",
            "Resolving s3.amazonaws.com (s3.amazonaws.com)... 52.216.38.200, 16.182.32.248, 16.15.185.44, ...\n",
            "Connecting to s3.amazonaws.com (s3.amazonaws.com)|52.216.38.200|:443... connected.\n",
            "HTTP request sent, awaiting response... 200 OK\n",
            "Length: 628645171 (600M) [video/mp4]\n",
            "Saving to: ‘berlin.mp4’\n",
            "\n",
            "berlin.mp4          100%[===================>] 599.52M  35.1MB/s    in 15s     \n",
            "\n",
            "2025-07-25 00:09:33 (40.3 MB/s) - ‘berlin.mp4’ saved [628645171/628645171]\n",
            "\n"
          ]
        }
      ],
      "source": [
        "# Download video\n",
        "path = \"berlin.mp4\"\n",
        "url = \"https://s3.amazonaws.com/NARAprodstorage/opastorage/live/16/147/6014716/content/presidential-libraries/reagan/5730544/6-12-1987-439.mp4\"\n",
        "!wget $url -O $path"
      ]
    },
    {
      "cell_type": "code",
      "execution_count": 12,
      "metadata": {
        "id": "efnp0oAq7kYx"
      },
      "outputs": [],
      "source": [
        "# Upload video\n",
        "video_file = client.files.upload(file=path)"
      ]
    },
    {
      "cell_type": "code",
      "execution_count": 13,
      "metadata": {
        "id": "ij9-oG3g7yyj",
        "colab": {
          "base_uri": "https://localhost:8080/"
        },
        "outputId": "07e2bc2e-8209-4616-df8f-84c281431856"
      },
      "outputs": [
        {
          "output_type": "stream",
          "name": "stdout",
          "text": [
            ".............."
          ]
        }
      ],
      "source": [
        "import time\n",
        "# Wait until the uploaded video is available\n",
        "while video_file.state.name == \"PROCESSING\":\n",
        "  print('.', end='')\n",
        "  time.sleep(5)\n",
        "  video_file = client.files.get(name=video_file.name)\n",
        "\n",
        "if video_file.state.name == \"FAILED\":\n",
        "  raise ValueError(video_file.state.name)"
      ]
    },
    {
      "cell_type": "markdown",
      "metadata": {
        "id": "CFG1q42HTHmp"
      },
      "source": [
        "The uploaded video is ready for processing. This prompt instructs the model to provide basic information about the historical events portrayed in the video."
      ]
    },
    {
      "cell_type": "code",
      "execution_count": 14,
      "metadata": {
        "id": "Zhnsiy9O8OXG"
      },
      "outputs": [],
      "source": [
        "system_prompt = \"\"\"\n",
        "  You are historian who specializes in events caught on film.\n",
        "  When you receive a video answer following questions:\n",
        "  When did it happen?\n",
        "  Who is the most important person in video?\n",
        "  How the event is called?\n",
        "  You have to give the answers in English and in Spanish.\n",
        "\"\"\""
      ]
    },
    {
      "cell_type": "markdown",
      "metadata": {
        "id": "mvbM5XRJjp6T"
      },
      "source": [
        "Some historic events touch on controversial topics that may get flagged by Gemini API, which blocks the response for the query.\n",
        "\n",
        "Because of this, it might be a good idea to turn off safety settings."
      ]
    },
    {
      "cell_type": "code",
      "execution_count": 15,
      "metadata": {
        "id": "GroygcLLNH3J"
      },
      "outputs": [],
      "source": [
        "safety_settings = [\n",
        "    {\n",
        "        \"category\": \"HARM_CATEGORY_HARASSMENT\",\n",
        "        \"threshold\": \"BLOCK_NONE\",\n",
        "    },\n",
        "    {\n",
        "        \"category\": \"HARM_CATEGORY_HATE_SPEECH\",\n",
        "        \"threshold\": \"BLOCK_NONE\",\n",
        "    },\n",
        "    {\n",
        "        \"category\": \"HARM_CATEGORY_SEXUALLY_EXPLICIT\",\n",
        "        \"threshold\": \"BLOCK_NONE\",\n",
        "    },\n",
        "    {\n",
        "        \"category\": \"HARM_CATEGORY_DANGEROUS_CONTENT\",\n",
        "        \"threshold\": \"BLOCK_NONE\",\n",
        "    },\n",
        "]"
      ]
    },
    {
      "cell_type": "code",
      "execution_count": 16,
      "metadata": {
        "id": "PWLK7TEi7_mP",
        "colab": {
          "base_uri": "https://localhost:8080/"
        },
        "outputId": "7bbd77fb-5f8e-4626-9eb3-2333ccc71edc"
      },
      "outputs": [
        {
          "output_type": "stream",
          "name": "stdout",
          "text": [
            "When did it happen?\n",
            "June 12, 1987.\n",
            "\n",
            "Who is the most important person in video?\n",
            "Ronald Reagan.\n",
            "\n",
            "How the event is called?\n",
            "The Brandenburg Gate speech.\n",
            "\n",
            "¿Cuándo ocurrió?\n",
            "12 de junio de 1987.\n",
            "\n",
            "¿Quién es la persona más importante en el video?\n",
            "Ronald Reagan.\n",
            "\n",
            "¿Cómo se llama el evento?\n",
            "El discurso de la Puerta de Brandeburgo.\n"
          ]
        }
      ],
      "source": [
        "from google.genai import types\n",
        "\n",
        "MODEL_ID=\"gemini-2.5-flash-lite\" # @param [\"gemini-2.5-flash-lite\",\"gemini-2.5-flash\",\"gemini-2.5-pro\"] {\"allow-input\":true, isTemplate: true}\n",
        "response = client.models.generate_content(\n",
        "    model=f\"models/{MODEL_ID}\",\n",
        "    contents=[\n",
        "        \"Analyze the video please\",\n",
        "        video_file\n",
        "        ],\n",
        "    config=types.GenerateContentConfig(\n",
        "        system_instruction=system_prompt,\n",
        "        safety_settings=safety_settings,\n",
        "        ),\n",
        "    )\n",
        "print(response.text)"
      ]
    },
    {
      "cell_type": "markdown",
      "metadata": {
        "id": "T6ByVwbmTfve"
      },
      "source": [
        "As you can see, the model correctly provided information about the dates, Ronald Reagan, who was the main subject of the video, and the name of this event.\n",
        "\n",
        "You can delete the video to prevent unnecessary data storage."
      ]
    },
    {
      "cell_type": "code",
      "execution_count": 17,
      "metadata": {
        "id": "SomiSVmu8Czk",
        "colab": {
          "base_uri": "https://localhost:8080/"
        },
        "outputId": "4719bdd6-9a0c-49f0-e8bc-86ddaf4fcd06"
      },
      "outputs": [
        {
          "output_type": "execute_result",
          "data": {
            "text/plain": [
              "DeleteFileResponse()"
            ]
          },
          "metadata": {},
          "execution_count": 17
        }
      ],
      "source": [
        "# Delete video\n",
        "client.files.delete(name=video_file.name)"
      ]
    },
    {
      "cell_type": "markdown",
      "metadata": {
        "id": "aBM_LtQLLJA9"
      },
      "source": [
        "## Summary\n",
        "\n",
        "Now you know how you can prompt Gemini models with videos and use them to recognize historic events.\n",
        "\n",
        "This notebook shows only one of many use cases. Check the [Video understanding](../quickstarts/Video_understanding.ipynb) notebook for more examples of using the Gemini API with videos."
      ]
    }
  ],
  "metadata": {
    "colab": {
      "name": "Analyze_a_Video_Historic_Event_Recognition.ipynb",
      "provenance": []
    },
    "kernelspec": {
      "display_name": "Python 3",
      "name": "python3"
    }
  },
  "nbformat": 4,
  "nbformat_minor": 0
}